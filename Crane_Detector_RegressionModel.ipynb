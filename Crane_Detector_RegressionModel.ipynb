{
  "nbformat": 4,
  "nbformat_minor": 0,
  "metadata": {
    "colab": {
      "provenance": [],
      "machine_shape": "hm",
      "mount_file_id": "1pr7jf6Mji2jNtnRMm_hnS2wkE6Las7kJ",
      "authorship_tag": "ABX9TyMbV6GTGkAN1P3D+qcQPryn",
      "include_colab_link": true
    },
    "kernelspec": {
      "name": "python3",
      "display_name": "Python 3"
    },
    "language_info": {
      "name": "python"
    }
  },
  "cells": [
    {
      "cell_type": "markdown",
      "metadata": {
        "id": "view-in-github",
        "colab_type": "text"
      },
      "source": [
        "<a href=\"https://colab.research.google.com/github/jollyoli93/KnowYourLoadExactly/blob/main/Crane_Detector_RegressionModel.ipynb\" target=\"_parent\"><img src=\"https://colab.research.google.com/assets/colab-badge.svg\" alt=\"Open In Colab\"/></a>"
      ]
    },
    {
      "cell_type": "code",
      "execution_count": null,
      "metadata": {
        "colab": {
          "base_uri": "https://localhost:8080/"
        },
        "id": "4FStUkfFeUMa",
        "outputId": "51fc9c84-f4ed-4c1c-874c-3c334a41028e"
      },
      "outputs": [
        {
          "output_type": "stream",
          "name": "stdout",
          "text": [
            "Mounted at /content/drive\n"
          ]
        }
      ],
      "source": [
        "from google.colab import drive\n",
        "drive.mount('/content/drive')"
      ]
    },
    {
      "cell_type": "code",
      "source": [
        "import numpy as np\n",
        "import torch"
      ],
      "metadata": {
        "id": "uXErCptIemez"
      },
      "execution_count": null,
      "outputs": []
    },
    {
      "cell_type": "markdown",
      "source": [
        "# Regression Algo"
      ],
      "metadata": {
        "id": "heOQmR5i5j68"
      }
    },
    {
      "cell_type": "code",
      "source": [
        "from pathlib import Path\n",
        "from pandas import DataFrame"
      ],
      "metadata": {
        "id": "yqdwDB2_CUQJ"
      },
      "execution_count": null,
      "outputs": []
    },
    {
      "cell_type": "code",
      "source": [
        "train_labels = \"/content/drive/MyDrive/Crane-Detector/First Experiment/master_project.v6-all_img_less_aug_2cls.yolov8-obb/train/labels\"\n",
        "valid_labels = \"/content/drive/MyDrive/Crane-Detector/First Experiment/master_project.v6-all_img_less_aug_2cls.yolov8-obb/valid/labels\""
      ],
      "metadata": {
        "id": "xSPqJOTU_3xQ"
      },
      "execution_count": null,
      "outputs": []
    },
    {
      "cell_type": "code",
      "source": [
        "coord = [p for p in Path(train_labels).glob(\"*\")]"
      ],
      "metadata": {
        "id": "LFZTOa_Stlla"
      },
      "execution_count": null,
      "outputs": []
    },
    {
      "cell_type": "code",
      "source": [
        "coord[0]"
      ],
      "metadata": {
        "colab": {
          "base_uri": "https://localhost:8080/"
        },
        "id": "cRWpPWX4RNr0",
        "outputId": "03af8a0a-da73-4e16-e082-588b8a305e57"
      },
      "execution_count": null,
      "outputs": [
        {
          "output_type": "execute_result",
          "data": {
            "text/plain": [
              "PosixPath('/content/drive/MyDrive/Crane-Detector/First Experiment/master_project.v6-all_img_less_aug_2cls.yolov8-obb/train/labels/2503171220110000_jpg.rf.79079bdd006863958c8845829d666403.txt')"
            ]
          },
          "metadata": {},
          "execution_count": 6
        }
      ]
    },
    {
      "cell_type": "code",
      "source": [
        "# with open(coord[10], \"r\") as f:\n",
        "#   coord = f.readlines()\n",
        "#   get_pairs(coord)"
      ],
      "metadata": {
        "id": "YPKJdA-4PCfP"
      },
      "execution_count": null,
      "outputs": []
    },
    {
      "cell_type": "markdown",
      "source": [
        "## Get Pairs"
      ],
      "metadata": {
        "id": "TutYAcGgjMzC"
      }
    },
    {
      "cell_type": "code",
      "source": [
        "cos = [0.508, 0.16100000000000012, 0.5033333333333333, 0.16100000000000012, 0.5033333333333333, 0.1800000000000001, 0.508, 0.1800000000000001]\n",
        "cos2 = [0.4, 0.14100000000000012, 0.3033333333333333, 0.14100000000000012, 0.3033333333333333, 0.1600000000000001, 0.4, 0.1600000000000001]\n"
      ],
      "metadata": {
        "id": "pGWAb89FD9BX"
      },
      "execution_count": null,
      "outputs": []
    },
    {
      "cell_type": "code",
      "source": [
        "def find_centroid(coords):\n",
        "  xs = 0\n",
        "  ys = 0\n",
        "\n",
        "  for i in range(len(coords)):\n",
        "    if i % 2 == 0:\n",
        "      xs += coords[i]\n",
        "    else:\n",
        "      ys += coords[i]\n",
        "\n",
        "  xc = xs / (len(coords)/2)\n",
        "  yc = ys / (len(coords)/2)\n",
        "\n",
        "  return [xc, yc]"
      ],
      "metadata": {
        "id": "U_7heYWbD0ri"
      },
      "execution_count": null,
      "outputs": []
    },
    {
      "cell_type": "code",
      "source": [
        "def get_dims(coords):\n",
        "    xs = coords[::2]\n",
        "    ys = coords[1::2]\n",
        "\n",
        "    width = max(xs) - min(xs)\n",
        "    height = max(ys) - min(ys)\n",
        "    area = width * height\n",
        "    aspect = width/height\n",
        "\n",
        "    return [width, height, area, aspect]\n"
      ],
      "metadata": {
        "id": "mTCpBhEvCZ3Z"
      },
      "execution_count": null,
      "outputs": []
    },
    {
      "cell_type": "code",
      "source": [
        "center = find_centroid(cos)"
      ],
      "metadata": {
        "id": "4PJIR53lFcS_"
      },
      "execution_count": null,
      "outputs": []
    },
    {
      "cell_type": "code",
      "source": [
        "get_dims(cos)"
      ],
      "metadata": {
        "colab": {
          "base_uri": "https://localhost:8080/"
        },
        "id": "AxHUPk-iGhdo",
        "outputId": "401b21de-440e-4f66-cd59-f6f1c6f719e0"
      },
      "execution_count": null,
      "outputs": [
        {
          "output_type": "execute_result",
          "data": {
            "text/plain": [
              "[0.004666666666666708,\n",
              " 0.01899999999999999,\n",
              " 8.86666666666674e-05,\n",
              " 0.24561403508772162]"
            ]
          },
          "metadata": {},
          "execution_count": 12
        }
      ]
    },
    {
      "cell_type": "code",
      "source": [
        "from math import sqrt\n",
        "\n",
        "def dist_between_centroids(input, target):\n",
        "  x1, y1 = input\n",
        "  x2, y2 = target\n",
        "\n",
        "  dx = x1 - x2\n",
        "  dy = y1 - y2\n",
        "\n",
        "  distance = sqrt(dx**2 + dy**2)\n",
        "  return distance"
      ],
      "metadata": {
        "id": "woyGfhFcFyl0"
      },
      "execution_count": null,
      "outputs": []
    },
    {
      "cell_type": "code",
      "source": [
        "dist_between_centroids(center, (0.4, 0.16))"
      ],
      "metadata": {
        "colab": {
          "base_uri": "https://localhost:8080/"
        },
        "id": "3ARxfKpeG4Hx",
        "outputId": "0af7bfce-3af2-482d-ea7f-3c52a9a5eb11"
      },
      "execution_count": null,
      "outputs": [
        {
          "output_type": "execute_result",
          "data": {
            "text/plain": [
              "0.10618707286880287"
            ]
          },
          "metadata": {},
          "execution_count": 14
        }
      ]
    },
    {
      "cell_type": "code",
      "source": [
        "def find_distance(input, target):\n",
        "  input_centroid = find_centroid(input)\n",
        "  target_centroid = find_centroid(target)\n",
        "\n",
        "  distance = dist_between_centroids(input_centroid, target_centroid)\n",
        "  return distance\n"
      ],
      "metadata": {
        "id": "AsppArt3HbRe"
      },
      "execution_count": null,
      "outputs": []
    },
    {
      "cell_type": "code",
      "source": [
        "find_distance(cos, cos2)"
      ],
      "metadata": {
        "colab": {
          "base_uri": "https://localhost:8080/"
        },
        "id": "JKfVVoqjH8DX",
        "outputId": "51bf06b2-35a7-44aa-ee74-8ca6669e4652"
      },
      "execution_count": null,
      "outputs": [
        {
          "output_type": "execute_result",
          "data": {
            "text/plain": [
              "0.15529327094243334"
            ]
          },
          "metadata": {},
          "execution_count": 16
        }
      ]
    },
    {
      "cell_type": "code",
      "source": [
        "def get_pairs(coords):\n",
        "  coord_split = [[float(x) for x in line.strip().split()] for line in coords if line.strip()]\n",
        "  class_0_boxes = [d for d in coord_split if d[0] == 0]\n",
        "  class_1_boxes = [d for d in coord_split if d[0] == 1]\n",
        "\n",
        "  pairs = dict({'x':[], 'y':[]})\n",
        "  used_0 = set()\n",
        "\n",
        "  for i, box1 in enumerate(class_1_boxes):\n",
        "      x1 = float(box1[1])\n",
        "      closest = None\n",
        "      min_dist = float(\"inf\")\n",
        "      closest_idx = -1\n",
        "\n",
        "      for j, box0 in enumerate(class_0_boxes):\n",
        "          if j not in used_0:\n",
        "              x0 = float(box0[1])\n",
        "              dist = abs(x1 - x0)\n",
        "              if dist < min_dist:\n",
        "                  min_dist = dist\n",
        "                  closest = box0\n",
        "                  closest_idx = j\n",
        "\n",
        "      if closest:\n",
        "          # distance = find_distance(closest[1:], box1[1:])\n",
        "          dims = get_dims(closest[1:])\n",
        "          centre = find_centroid(closest[1:])\n",
        "\n",
        "          # pairs['x'].append(closest[1:])\n",
        "          # pairs['x'].append(closest[1:] + [distance])\n",
        "          pairs['x'].append(closest[1:] + dims + centre ) # derived dimensions\n",
        "\n",
        "          # pairs['y'].append(box1[1:]) # standard\n",
        "          pairs['y'].append(find_centroid(box1[1:])) #x, y,\n",
        "\n",
        "          # print(f\"{closest[1:]}, y: {box1[1:]} \")\n",
        "\n",
        "          used_0.add(closest_idx)\n",
        "\n",
        "  return pairs\n"
      ],
      "metadata": {
        "id": "2RKxatbcPUX6"
      },
      "execution_count": null,
      "outputs": []
    },
    {
      "cell_type": "code",
      "source": [
        "print(get_pairs(open(\"/content/drive/MyDrive/Crane-Detector/First Experiment/master_project.v6-all_img_less_aug_2cls.yolov8-obb/train/labels/2502070850004013_jpg.rf.a5b26a94f09ab41e915df9c6ea02ee64.txt\").readlines()))"
      ],
      "metadata": {
        "colab": {
          "base_uri": "https://localhost:8080/"
        },
        "id": "mOlADBcYTAwI",
        "outputId": "fc4f34f8-3c35-4713-8368-b52f0101c88e"
      },
      "execution_count": null,
      "outputs": [
        {
          "output_type": "stream",
          "name": "stdout",
          "text": [
            "{'x': [[0.508, 0.16100000000000012, 0.5033333333333333, 0.16100000000000012, 0.5033333333333333, 0.1800000000000001, 0.508, 0.1800000000000001, 0.004666666666666708, 0.01899999999999999, 8.86666666666674e-05, 0.24561403508772162, 0.5056666666666667, 0.1705000000000001], [0.10666666666666667, 0.020000000000000018, 0.09666666666666666, 0.020000000000000014, 0.09666666666666666, 0.03500000000000002, 0.10666666666666667, 0.03500000000000002, 0.010000000000000009, 0.015000000000000003, 0.00015000000000000015, 0.6666666666666671, 0.10166666666666667, 0.027500000000000017]], 'y': [[0.5043333333333333, 0.23050000000000012], [0.11699999999999999, 0.11050000000000001]]}\n"
          ]
        }
      ]
    },
    {
      "cell_type": "markdown",
      "source": [
        "## Create Dataset"
      ],
      "metadata": {
        "id": "f2KZmvj2jRc8"
      }
    },
    {
      "cell_type": "code",
      "source": [
        "from torch.utils.data import Dataset\n",
        "\n",
        "class YoloLabelsDataset(Dataset):\n",
        "    def __init__(self, label_dir):\n",
        "        self.label_dir = label_dir\n",
        "        self.labels = list(Path(label_dir).glob(\"*.txt\"))\n",
        "\n",
        "    def __len__(self):\n",
        "        return len(self.labels)\n",
        "\n",
        "    def __getitem__(self, idx):\n",
        "        label = self.labels[idx]\n",
        "\n",
        "        with open(label, \"r\") as f:\n",
        "          coord_file = f.readlines()\n",
        "\n",
        "        if len(coord_file) > 1:\n",
        "          pairs = get_pairs(coord_file)\n",
        "          if pairs is None or 'x' not in pairs or 'y' not in pairs:\n",
        "            return None\n",
        "          return pairs"
      ],
      "metadata": {
        "id": "xvizbOWaCSXJ"
      },
      "execution_count": null,
      "outputs": []
    },
    {
      "cell_type": "code",
      "source": [
        "train_ds = YoloLabelsDataset(train_labels)\n",
        "valid_ds = YoloLabelsDataset(valid_labels)"
      ],
      "metadata": {
        "id": "ClKpf7irwnXB"
      },
      "execution_count": null,
      "outputs": []
    },
    {
      "cell_type": "code",
      "source": [
        "test_data = train_ds.__getitem__(15)"
      ],
      "metadata": {
        "id": "p191NqApwwOq"
      },
      "execution_count": null,
      "outputs": []
    },
    {
      "cell_type": "code",
      "source": [
        "test_valid_data = valid_ds.__getitem__(6)"
      ],
      "metadata": {
        "id": "DRNZiKXnyhVB"
      },
      "execution_count": null,
      "outputs": []
    },
    {
      "cell_type": "markdown",
      "source": [
        "## Collate Function"
      ],
      "metadata": {
        "id": "1mOwZg1JjUZo"
      }
    },
    {
      "cell_type": "code",
      "source": [
        "import torch\n",
        "\n",
        "def collate_pairs(batch):\n",
        "    batch = [item for item in batch if item is not None]\n",
        "\n",
        "    xs = []\n",
        "    ys = []\n",
        "\n",
        "    for item in batch:\n",
        "        for x_coords, y_coords in zip(item['x'], item['y']):\n",
        "            xs.append(torch.tensor(x_coords, dtype=torch.float32))\n",
        "            ys.append(torch.tensor(y_coords, dtype=torch.float32))\n",
        "\n",
        "    x_tens = torch.stack(xs)\n",
        "    y_tens = torch.stack(ys)\n",
        "\n",
        "    return x_tens, y_tens\n",
        "\n"
      ],
      "metadata": {
        "id": "mecKCDYJvapI"
      },
      "execution_count": null,
      "outputs": []
    },
    {
      "cell_type": "code",
      "source": [
        "collate_pairs([test_valid_data])"
      ],
      "metadata": {
        "colab": {
          "base_uri": "https://localhost:8080/"
        },
        "id": "3VlqsCRivyLA",
        "outputId": "1c50c9eb-a643-402c-9532-0794d1b5aeae"
      },
      "execution_count": null,
      "outputs": [
        {
          "output_type": "execute_result",
          "data": {
            "text/plain": [
              "(tensor([[0.3133, 0.3300, 0.2880, 0.3300, 0.2880, 0.4140, 0.3133, 0.4140, 0.0253,\n",
              "          0.0840, 0.0021, 0.3016, 0.3007, 0.3720],\n",
              "         [0.9433, 0.4050, 0.8827, 0.4050, 0.8827, 0.5160, 0.9433, 0.5160, 0.0607,\n",
              "          0.1110, 0.0067, 0.5465, 0.9130, 0.4605]]),\n",
              " tensor([[0.3145, 0.6077],\n",
              "         [0.8623, 0.8059]]))"
            ]
          },
          "metadata": {},
          "execution_count": 46
        }
      ]
    },
    {
      "cell_type": "markdown",
      "source": [
        "## Create Dataloaders"
      ],
      "metadata": {
        "id": "6SBDHznwjXBa"
      }
    },
    {
      "cell_type": "code",
      "source": [
        "from torch.utils.data import DataLoader\n",
        "\n",
        "train_dataloader = DataLoader(train_ds, batch_size=64, collate_fn=collate_pairs, shuffle=True)\n",
        "valid_dataloader = DataLoader(valid_ds, batch_size=64, collate_fn=collate_pairs, shuffle=True)"
      ],
      "metadata": {
        "id": "_MUF7AumwA4c"
      },
      "execution_count": null,
      "outputs": []
    },
    {
      "cell_type": "code",
      "source": [
        "batch = next(iter(train_dataloader))"
      ],
      "metadata": {
        "id": "AF7o4wZyyaSV",
        "colab": {
          "base_uri": "https://localhost:8080/",
          "height": 204
        },
        "outputId": "cc64ae32-4c3d-4c66-ff07-d4eca904b26c"
      },
      "execution_count": null,
      "outputs": [
        {
          "output_type": "error",
          "ename": "KeyboardInterrupt",
          "evalue": "",
          "traceback": [
            "\u001b[0;31m---------------------------------------------------------------------------\u001b[0m",
            "\u001b[0;31mKeyboardInterrupt\u001b[0m                         Traceback (most recent call last)",
            "\u001b[0;32m/tmp/ipython-input-1238991400.py\u001b[0m in \u001b[0;36m<cell line: 0>\u001b[0;34m()\u001b[0m\n\u001b[0;32m----> 1\u001b[0;31m \u001b[0mbatch\u001b[0m \u001b[0;34m=\u001b[0m \u001b[0mnext\u001b[0m\u001b[0;34m(\u001b[0m\u001b[0miter\u001b[0m\u001b[0;34m(\u001b[0m\u001b[0mtrain_dataloader\u001b[0m\u001b[0;34m)\u001b[0m\u001b[0;34m)\u001b[0m\u001b[0;34m\u001b[0m\u001b[0;34m\u001b[0m\u001b[0m\n\u001b[0m",
            "\u001b[0;32m/usr/local/lib/python3.12/dist-packages/torch/utils/data/dataloader.py\u001b[0m in \u001b[0;36m__next__\u001b[0;34m(self)\u001b[0m\n\u001b[1;32m    732\u001b[0m                 \u001b[0;31m# TODO(https://github.com/pytorch/pytorch/issues/76750)\u001b[0m\u001b[0;34m\u001b[0m\u001b[0;34m\u001b[0m\u001b[0m\n\u001b[1;32m    733\u001b[0m                 \u001b[0mself\u001b[0m\u001b[0;34m.\u001b[0m\u001b[0m_reset\u001b[0m\u001b[0;34m(\u001b[0m\u001b[0;34m)\u001b[0m  \u001b[0;31m# type: ignore[call-arg]\u001b[0m\u001b[0;34m\u001b[0m\u001b[0;34m\u001b[0m\u001b[0m\n\u001b[0;32m--> 734\u001b[0;31m             \u001b[0mdata\u001b[0m \u001b[0;34m=\u001b[0m \u001b[0mself\u001b[0m\u001b[0;34m.\u001b[0m\u001b[0m_next_data\u001b[0m\u001b[0;34m(\u001b[0m\u001b[0;34m)\u001b[0m\u001b[0;34m\u001b[0m\u001b[0;34m\u001b[0m\u001b[0m\n\u001b[0m\u001b[1;32m    735\u001b[0m             \u001b[0mself\u001b[0m\u001b[0;34m.\u001b[0m\u001b[0m_num_yielded\u001b[0m \u001b[0;34m+=\u001b[0m \u001b[0;36m1\u001b[0m\u001b[0;34m\u001b[0m\u001b[0;34m\u001b[0m\u001b[0m\n\u001b[1;32m    736\u001b[0m             if (\n",
            "\u001b[0;32m/usr/local/lib/python3.12/dist-packages/torch/utils/data/dataloader.py\u001b[0m in \u001b[0;36m_next_data\u001b[0;34m(self)\u001b[0m\n\u001b[1;32m    788\u001b[0m     \u001b[0;32mdef\u001b[0m \u001b[0m_next_data\u001b[0m\u001b[0;34m(\u001b[0m\u001b[0mself\u001b[0m\u001b[0;34m)\u001b[0m\u001b[0;34m:\u001b[0m\u001b[0;34m\u001b[0m\u001b[0;34m\u001b[0m\u001b[0m\n\u001b[1;32m    789\u001b[0m         \u001b[0mindex\u001b[0m \u001b[0;34m=\u001b[0m \u001b[0mself\u001b[0m\u001b[0;34m.\u001b[0m\u001b[0m_next_index\u001b[0m\u001b[0;34m(\u001b[0m\u001b[0;34m)\u001b[0m  \u001b[0;31m# may raise StopIteration\u001b[0m\u001b[0;34m\u001b[0m\u001b[0;34m\u001b[0m\u001b[0m\n\u001b[0;32m--> 790\u001b[0;31m         \u001b[0mdata\u001b[0m \u001b[0;34m=\u001b[0m \u001b[0mself\u001b[0m\u001b[0;34m.\u001b[0m\u001b[0m_dataset_fetcher\u001b[0m\u001b[0;34m.\u001b[0m\u001b[0mfetch\u001b[0m\u001b[0;34m(\u001b[0m\u001b[0mindex\u001b[0m\u001b[0;34m)\u001b[0m  \u001b[0;31m# may raise StopIteration\u001b[0m\u001b[0;34m\u001b[0m\u001b[0;34m\u001b[0m\u001b[0m\n\u001b[0m\u001b[1;32m    791\u001b[0m         \u001b[0;32mif\u001b[0m \u001b[0mself\u001b[0m\u001b[0;34m.\u001b[0m\u001b[0m_pin_memory\u001b[0m\u001b[0;34m:\u001b[0m\u001b[0;34m\u001b[0m\u001b[0;34m\u001b[0m\u001b[0m\n\u001b[1;32m    792\u001b[0m             \u001b[0mdata\u001b[0m \u001b[0;34m=\u001b[0m \u001b[0m_utils\u001b[0m\u001b[0;34m.\u001b[0m\u001b[0mpin_memory\u001b[0m\u001b[0;34m.\u001b[0m\u001b[0mpin_memory\u001b[0m\u001b[0;34m(\u001b[0m\u001b[0mdata\u001b[0m\u001b[0;34m,\u001b[0m \u001b[0mself\u001b[0m\u001b[0;34m.\u001b[0m\u001b[0m_pin_memory_device\u001b[0m\u001b[0;34m)\u001b[0m\u001b[0;34m\u001b[0m\u001b[0;34m\u001b[0m\u001b[0m\n",
            "\u001b[0;32m/usr/local/lib/python3.12/dist-packages/torch/utils/data/_utils/fetch.py\u001b[0m in \u001b[0;36mfetch\u001b[0;34m(self, possibly_batched_index)\u001b[0m\n\u001b[1;32m     50\u001b[0m                 \u001b[0mdata\u001b[0m \u001b[0;34m=\u001b[0m \u001b[0mself\u001b[0m\u001b[0;34m.\u001b[0m\u001b[0mdataset\u001b[0m\u001b[0;34m.\u001b[0m\u001b[0m__getitems__\u001b[0m\u001b[0;34m(\u001b[0m\u001b[0mpossibly_batched_index\u001b[0m\u001b[0;34m)\u001b[0m\u001b[0;34m\u001b[0m\u001b[0;34m\u001b[0m\u001b[0m\n\u001b[1;32m     51\u001b[0m             \u001b[0;32melse\u001b[0m\u001b[0;34m:\u001b[0m\u001b[0;34m\u001b[0m\u001b[0;34m\u001b[0m\u001b[0m\n\u001b[0;32m---> 52\u001b[0;31m                 \u001b[0mdata\u001b[0m \u001b[0;34m=\u001b[0m \u001b[0;34m[\u001b[0m\u001b[0mself\u001b[0m\u001b[0;34m.\u001b[0m\u001b[0mdataset\u001b[0m\u001b[0;34m[\u001b[0m\u001b[0midx\u001b[0m\u001b[0;34m]\u001b[0m \u001b[0;32mfor\u001b[0m \u001b[0midx\u001b[0m \u001b[0;32min\u001b[0m \u001b[0mpossibly_batched_index\u001b[0m\u001b[0;34m]\u001b[0m\u001b[0;34m\u001b[0m\u001b[0;34m\u001b[0m\u001b[0m\n\u001b[0m\u001b[1;32m     53\u001b[0m         \u001b[0;32melse\u001b[0m\u001b[0;34m:\u001b[0m\u001b[0;34m\u001b[0m\u001b[0;34m\u001b[0m\u001b[0m\n\u001b[1;32m     54\u001b[0m             \u001b[0mdata\u001b[0m \u001b[0;34m=\u001b[0m \u001b[0mself\u001b[0m\u001b[0;34m.\u001b[0m\u001b[0mdataset\u001b[0m\u001b[0;34m[\u001b[0m\u001b[0mpossibly_batched_index\u001b[0m\u001b[0;34m]\u001b[0m\u001b[0;34m\u001b[0m\u001b[0;34m\u001b[0m\u001b[0m\n",
            "\u001b[0;32m/tmp/ipython-input-3057792112.py\u001b[0m in \u001b[0;36m__getitem__\u001b[0;34m(self, idx)\u001b[0m\n\u001b[1;32m     13\u001b[0m \u001b[0;34m\u001b[0m\u001b[0m\n\u001b[1;32m     14\u001b[0m         \u001b[0;32mwith\u001b[0m \u001b[0mopen\u001b[0m\u001b[0;34m(\u001b[0m\u001b[0mlabel\u001b[0m\u001b[0;34m,\u001b[0m \u001b[0;34m\"r\"\u001b[0m\u001b[0;34m)\u001b[0m \u001b[0;32mas\u001b[0m \u001b[0mf\u001b[0m\u001b[0;34m:\u001b[0m\u001b[0;34m\u001b[0m\u001b[0;34m\u001b[0m\u001b[0m\n\u001b[0;32m---> 15\u001b[0;31m           \u001b[0mcoord_file\u001b[0m \u001b[0;34m=\u001b[0m \u001b[0mf\u001b[0m\u001b[0;34m.\u001b[0m\u001b[0mreadlines\u001b[0m\u001b[0;34m(\u001b[0m\u001b[0;34m)\u001b[0m\u001b[0;34m\u001b[0m\u001b[0;34m\u001b[0m\u001b[0m\n\u001b[0m\u001b[1;32m     16\u001b[0m \u001b[0;34m\u001b[0m\u001b[0m\n\u001b[1;32m     17\u001b[0m         \u001b[0;32mif\u001b[0m \u001b[0mlen\u001b[0m\u001b[0;34m(\u001b[0m\u001b[0mcoord_file\u001b[0m\u001b[0;34m)\u001b[0m \u001b[0;34m>\u001b[0m \u001b[0;36m1\u001b[0m\u001b[0;34m:\u001b[0m\u001b[0;34m\u001b[0m\u001b[0;34m\u001b[0m\u001b[0m\n",
            "\u001b[0;32m/usr/lib/python3.12/codecs.py\u001b[0m in \u001b[0;36mdecode\u001b[0;34m(self, input, final)\u001b[0m\n",
            "\u001b[0;31mKeyboardInterrupt\u001b[0m: "
          ]
        }
      ]
    },
    {
      "cell_type": "code",
      "source": [
        "x, y = batch"
      ],
      "metadata": {
        "id": "vjuU7ZwMzjWZ"
      },
      "execution_count": null,
      "outputs": []
    },
    {
      "cell_type": "code",
      "source": [
        "len(train_dataloader)"
      ],
      "metadata": {
        "id": "OZSFCktwzsp-",
        "colab": {
          "base_uri": "https://localhost:8080/"
        },
        "outputId": "2d5598f3-0f3e-4b60-8255-936d62b72b54"
      },
      "execution_count": null,
      "outputs": [
        {
          "output_type": "execute_result",
          "data": {
            "text/plain": [
              "24"
            ]
          },
          "metadata": {},
          "execution_count": 49
        }
      ]
    },
    {
      "cell_type": "markdown",
      "source": [
        "## Define Model"
      ],
      "metadata": {
        "id": "y6rpENncimw5"
      }
    },
    {
      "cell_type": "code",
      "source": [
        "class LinearRegression(torch.nn.Module):\n",
        "    def __init__(self, in_feat, out_feat) -> None:\n",
        "        super().__init__()\n",
        "        self.linear = torch.nn.Sequential(\n",
        "            torch.nn.Linear(in_feat, 100),\n",
        "            torch.nn.ReLU(),\n",
        "            torch.nn.Linear(100, 100),\n",
        "            torch.nn.ReLU(),\n",
        "            torch.nn.Linear(100, out_feat),\n",
        "            torch.nn.Sigmoid()\n",
        "        )\n",
        "\n",
        "    def forward(self, x):\n",
        "        x = self.linear(x)\n",
        "        return x"
      ],
      "metadata": {
        "id": "ED_JcF6HkhLw"
      },
      "execution_count": null,
      "outputs": []
    },
    {
      "cell_type": "code",
      "source": [
        "linearModel = LinearRegression(14, 2)"
      ],
      "metadata": {
        "id": "3VAe_7MXkG68"
      },
      "execution_count": null,
      "outputs": []
    },
    {
      "cell_type": "code",
      "source": [
        "optimizer = torch.optim.SGD(linearModel.parameters(), lr=0.1, momentum=0.9)\n",
        "loss = torch.nn.MSELoss()"
      ],
      "metadata": {
        "id": "EYh57dBajaTS"
      },
      "execution_count": null,
      "outputs": []
    },
    {
      "cell_type": "code",
      "source": [
        "def train_epoch(dataloader, optim, loss_fn, model):\n",
        "  for i, batch in enumerate(dataloader):\n",
        "    x,y = batch\n",
        "    predict = model(x)\n",
        "    loss = loss_fn(predict, y)\n",
        "    optim.zero_grad()\n",
        "    loss.backward()\n",
        "    optim.step()\n",
        "  return loss.item()"
      ],
      "metadata": {
        "id": "eHTPXgx8jyCg"
      },
      "execution_count": null,
      "outputs": []
    },
    {
      "cell_type": "code",
      "source": [
        "# train_epoch(train_dataloader, optimizer, loss, linearModel)"
      ],
      "metadata": {
        "id": "CcjincpskDKi"
      },
      "execution_count": null,
      "outputs": []
    },
    {
      "cell_type": "code",
      "source": [
        "# len(valid_dataloader.dataset)"
      ],
      "metadata": {
        "id": "8LeWvT2I69Ol"
      },
      "execution_count": null,
      "outputs": []
    },
    {
      "cell_type": "code",
      "source": [
        "from sklearn.metrics import r2_score\n",
        "\n",
        "@torch.no_grad()\n",
        "def validate_epoch(dataloader, model, loss_fn):\n",
        "  total_loss = 0\n",
        "  all_targets = []\n",
        "  all_preds = []\n",
        "\n",
        "  for i, batch in enumerate(dataloader):\n",
        "    x, y = batch\n",
        "    predict = model(x)\n",
        "    print(f\"y {y[0]} - predict {predict[0]}\")\n",
        "    loss = loss_fn(predict, y)\n",
        "    total_loss += loss.item()\n",
        "\n",
        "    all_preds.append(predict.cpu())\n",
        "    all_targets.append(y.cpu())\n",
        "\n",
        "  all_preds = torch.cat(all_preds, dim=0).numpy()\n",
        "  all_targets = torch.cat(all_targets, dim=0).numpy()\n",
        "\n",
        "  # Compute r2\n",
        "  r2 = r2_score(all_targets, all_preds)\n",
        "  avg_loss = total_loss / len(dataloader.dataset)\n",
        "\n",
        "  return avg_loss, r2\n"
      ],
      "metadata": {
        "id": "NB3tm2oemEK_"
      },
      "execution_count": null,
      "outputs": []
    },
    {
      "cell_type": "code",
      "source": [
        "# validate_epoch(valid_dataloader, linearModel, loss)"
      ],
      "metadata": {
        "id": "KeHRIv-o0IlZ"
      },
      "execution_count": null,
      "outputs": []
    },
    {
      "cell_type": "code",
      "source": [
        "def fit(epochs):\n",
        "  train_losses = []\n",
        "  valid_losses = []\n",
        "  rsqrd = []\n",
        "\n",
        "  for i in range(1, epochs+1):\n",
        "    train_loss = train_epoch(train_dataloader, optimizer, loss, linearModel)\n",
        "    valid_loss = validate_epoch(valid_dataloader, linearModel, loss)\n",
        "    mse, r2 = valid_loss\n",
        "\n",
        "    train_losses.append(train_loss)\n",
        "    valid_losses.append(mse)\n",
        "    rsqrd.append(r2)\n",
        "\n",
        "    print(f\"Epoch {i}- Train Loss: {train_loss} - Valid Loss: {mse} -  R2 Loss: {r2}\")\n",
        "  return train_losses, valid_losses, rsqrd"
      ],
      "metadata": {
        "id": "359mIBFj0P8f"
      },
      "execution_count": null,
      "outputs": []
    },
    {
      "cell_type": "code",
      "source": [
        "metrics = fit(1)"
      ],
      "metadata": {
        "colab": {
          "base_uri": "https://localhost:8080/"
        },
        "id": "deXmGKM21zIY",
        "outputId": "a64388ab-1d87-4929-a431-3b572ceef3e7"
      },
      "execution_count": null,
      "outputs": [
        {
          "output_type": "stream",
          "name": "stdout",
          "text": [
            "y tensor([0.5163, 0.1100]) - predict tensor([0.5417, 0.4534])\n",
            "y tensor([0.7293, 0.4356]) - predict tensor([0.5495, 0.4589])\n",
            "Epoch 1- Train Loss: 0.03567507490515709 - Valid Loss: 0.0007218577712774277 -  R2 Loss: 0.09018003940582275\n"
          ]
        }
      ]
    },
    {
      "cell_type": "markdown",
      "source": [
        "## Try now with different layers and different number of hidden activations"
      ],
      "metadata": {
        "id": "jEvoubqF102a"
      }
    },
    {
      "cell_type": "markdown",
      "source": [
        "### Plot graphs\n"
      ],
      "metadata": {
        "id": "5ucYQni6CQsR"
      }
    },
    {
      "cell_type": "code",
      "source": [
        "import matplotlib.pyplot as plt"
      ],
      "metadata": {
        "id": "SB_jlpERCSou"
      },
      "execution_count": null,
      "outputs": []
    },
    {
      "cell_type": "code",
      "source": [
        "# train_losses, valid_losses, rsqrd = metrics\n",
        "# epochs = 10\n",
        "\n",
        "# plt.plot(range(1, epochs+1), train_losses)\n",
        "# plt.plot(range(1, epochs+1), valid_losses)\n",
        "# plt.show()\n",
        "# plt.plot(range(1, epochs+1), rsqrd)\n",
        "# plt.show()"
      ],
      "metadata": {
        "id": "2MoXvT4fWJHX"
      },
      "execution_count": null,
      "outputs": []
    },
    {
      "cell_type": "markdown",
      "source": [
        "## Extra hidden Layers"
      ],
      "metadata": {
        "id": "UM661MqxiN-0"
      }
    },
    {
      "cell_type": "code",
      "source": [
        "class LinearRegression(torch.nn.Module):\n",
        "    def __init__(self, in_feat, out_feat, hidden) -> None:\n",
        "        super().__init__()\n",
        "        self.linear = torch.nn.Sequential(\n",
        "            torch.nn.Linear(in_feat, hidden),\n",
        "            torch.nn.ReLU(),\n",
        "            torch.nn.Linear(hidden, hidden),\n",
        "            torch.nn.ReLU(),\n",
        "            torch.nn.Linear(hidden, out_feat),\n",
        "            torch.nn.Sigmoid()\n",
        "        )\n",
        "\n",
        "    def forward(self, x):\n",
        "        x = self.linear(x)\n",
        "        return x"
      ],
      "metadata": {
        "id": "NPutTf4MiVWp"
      },
      "execution_count": null,
      "outputs": []
    },
    {
      "cell_type": "code",
      "source": [
        "import torch\n",
        "from sklearn.metrics import r2_score\n",
        "\n",
        "class CoordCropModel:\n",
        "    def __init__(self, model, opt_class, loss, dataloaders, lr=0.1, device=None, momentum=0.9, weight_decay=0.00001) -> None:\n",
        "        self.model = model\n",
        "        self.loss_fn = loss\n",
        "        self.train_dl = dataloaders['train']\n",
        "        self.valid_dl = dataloaders['valid']\n",
        "        self.lr = lr\n",
        "        self.momentum = momentum\n",
        "        self.weight_decay = weight_decay\n",
        "\n",
        "        self.device = device or torch.device(\"cuda\" if torch.cuda.is_available() else \"cpu\")\n",
        "        self.model.to(self.device)\n",
        "\n",
        "        self.opt = torch.optim.SGD(self.model.parameters(), lr=self.lr, momentum=self.momentum, weight_decay=self.weight_decay) #use for SGB\n",
        "        # self.opt = opt_class(self.model.parameters()) #use for adam\n",
        "\n",
        "        self.train_loss = []\n",
        "        self.valid_loss = []\n",
        "        self.r2 = []\n",
        "        self.epochs = 0\n",
        "\n",
        "    def train_epoch(self):\n",
        "        self.model.train()\n",
        "        epoch_loss = 0.0\n",
        "\n",
        "        for x, y in self.train_dl:\n",
        "            x, y = x.to(self.device), y.to(self.device)\n",
        "\n",
        "            predict = self.model(x)\n",
        "            loss = self.loss_fn(predict, y)\n",
        "\n",
        "            self.opt.zero_grad()\n",
        "            loss.backward()\n",
        "            self.opt.step()\n",
        "            epoch_loss += loss.item()\n",
        "\n",
        "        self.train_loss.append(epoch_loss / len(self.train_dl))\n",
        "\n",
        "    @torch.no_grad()\n",
        "    def validate_epoch(self):\n",
        "        self.model.eval()\n",
        "        total_loss = 0.0\n",
        "        all_targets, all_preds = [], []\n",
        "\n",
        "        for x, y in self.valid_dl:\n",
        "            x, y = x.to(self.device), y.to(self.device)\n",
        "            predict = self.model(x)\n",
        "            loss = self.loss_fn(predict, y)\n",
        "            total_loss += loss.item()\n",
        "\n",
        "            all_preds.append(predict.cpu())\n",
        "            all_targets.append(y.cpu())\n",
        "\n",
        "        all_preds = torch.cat(all_preds, dim=0).numpy()\n",
        "        all_targets = torch.cat(all_targets, dim=0).numpy()\n",
        "\n",
        "        self.r2.append(r2_score(all_targets, all_preds))\n",
        "        self.valid_loss.append(total_loss / len(self.valid_dl))\n",
        "\n",
        "    def fit(self, epochs):\n",
        "      self.epochs += epochs\n",
        "\n",
        "      for i in range(1, epochs+1):\n",
        "          self.train_epoch()\n",
        "          self.validate_epoch()\n",
        "\n",
        "          print(f\"Epoch {i} - \"\n",
        "                f\"Train Loss: {self.train_loss[-1]:.4f} - \"\n",
        "                f\"Valid Loss: {self.valid_loss[-1]:.4f} - \"\n",
        "                f\"R2: {self.r2[-1]:.4f}\")\n",
        "\n",
        "    def get_loss_graph(self):\n",
        "      plt.plot(range(1, self.epochs+1), self.train_loss)\n",
        "      plt.plot(range(1, self.epochs+1), self.valid_loss)\n",
        "      plt.show()\n",
        "\n",
        "    def get_r2_graph(self):\n",
        "      plt.plot(range(1, self.epochs+1), self.r2)\n",
        "      plt.show()\n",
        "\n",
        "    def metrics(self):\n",
        "      metrics = self.train_loss, self.valid_loss, self.r2\n",
        "      return metrics"
      ],
      "metadata": {
        "id": "6MX5tB0qiqtr"
      },
      "execution_count": null,
      "outputs": []
    },
    {
      "cell_type": "code",
      "source": [
        "from torch.utils.data import DataLoader\n",
        "\n",
        "seed = 42\n",
        "\n",
        "g = torch.Generator()\n",
        "g.manual_seed(seed)\n",
        "\n",
        "train_dataloader = DataLoader(\n",
        "    train_ds,\n",
        "    batch_size=64,\n",
        "    collate_fn=collate_pairs,\n",
        "    shuffle=True,\n",
        "    generator=g\n",
        ")\n",
        "\n",
        "valid_dataloader = DataLoader(\n",
        "    valid_ds,\n",
        "    batch_size=64,\n",
        "    collate_fn=collate_pairs,\n",
        "    shuffle=True,\n",
        "    generator=g\n",
        ")"
      ],
      "metadata": {
        "id": "Z6QeLT5R8u17"
      },
      "execution_count": null,
      "outputs": []
    },
    {
      "cell_type": "code",
      "source": [
        "dataloader_dict = {'train': train_dataloader, 'valid': valid_dataloader}"
      ],
      "metadata": {
        "id": "aXFVQEGiqdvr"
      },
      "execution_count": null,
      "outputs": []
    },
    {
      "cell_type": "code",
      "source": [
        "loss = torch.nn.MSELoss()\n",
        "opt = torch.optim.Adam\n",
        "Linear512 = LinearRegression(14, 2, 512) # 14 features output x,y\n"
      ],
      "metadata": {
        "id": "QDgr1MRAoy2z"
      },
      "execution_count": null,
      "outputs": []
    },
    {
      "cell_type": "code",
      "source": [
        "cropModel1 = CoordCropModel(model=Linear512, loss=loss, opt_class=opt, dataloaders=dataloader_dict, lr=0.1, weight_decay=0)\n",
        "# train epochs to 100 at 128 hidden activations and it got to around 0.84 but had more in the tank\n",
        "# trained epochs to around 50 at 512 activations and got to around 0.886, the valid loss was flucuating but not going terrible. Need to add regularization.\n",
        "# trained epochs to around 30 at 512 activations and 0.01 to 0.0001 but valid loss and R2 weren't stable/\n",
        "\n",
        "# 14 features, 2 outputs, 512 hidden activations with 0.0001 weight decay. Seems stable some fluctuation on valid loss but still decreasing\n",
        "# Epoch 100 - Train Loss: 0.0039 - Valid Loss: 0.0043 - R2: 0.8780 --- Best 0.8849 at 98 epochs\n",
        "\n",
        "#Final Run - 14 features, 2 outputs, 512 hidden activations, momentum = 0.9, weight_decay =0, SGD, MSE\n",
        "# Epoch 50 - Train Loss: 0.0040 - Valid Loss: 0.0050 - R2: 0.8864"
      ],
      "metadata": {
        "id": "43gDnJaA4sV6"
      },
      "execution_count": null,
      "outputs": []
    },
    {
      "cell_type": "code",
      "source": [
        "cropModel1.fit(50)"
      ],
      "metadata": {
        "colab": {
          "base_uri": "https://localhost:8080/"
        },
        "id": "DpxqLWvexVhx",
        "outputId": "46b4c072-9526-4f07-cd65-fe21e236fee3"
      },
      "execution_count": null,
      "outputs": [
        {
          "output_type": "stream",
          "name": "stdout",
          "text": [
            "Epoch 1 - Train Loss: 0.0292 - Valid Loss: 0.0291 - R2: 0.2794\n",
            "Epoch 2 - Train Loss: 0.0184 - Valid Loss: 0.0158 - R2: 0.5906\n",
            "Epoch 3 - Train Loss: 0.0107 - Valid Loss: 0.0099 - R2: 0.7620\n",
            "Epoch 4 - Train Loss: 0.0077 - Valid Loss: 0.0086 - R2: 0.8120\n",
            "Epoch 5 - Train Loss: 0.0067 - Valid Loss: 0.0069 - R2: 0.8240\n",
            "Epoch 6 - Train Loss: 0.0063 - Valid Loss: 0.0067 - R2: 0.8234\n",
            "Epoch 7 - Train Loss: 0.0060 - Valid Loss: 0.0061 - R2: 0.8333\n",
            "Epoch 8 - Train Loss: 0.0058 - Valid Loss: 0.0074 - R2: 0.8422\n",
            "Epoch 9 - Train Loss: 0.0056 - Valid Loss: 0.0070 - R2: 0.8355\n",
            "Epoch 10 - Train Loss: 0.0055 - Valid Loss: 0.0058 - R2: 0.8434\n",
            "Epoch 11 - Train Loss: 0.0054 - Valid Loss: 0.0069 - R2: 0.8515\n",
            "Epoch 12 - Train Loss: 0.0053 - Valid Loss: 0.0062 - R2: 0.8542\n",
            "Epoch 13 - Train Loss: 0.0052 - Valid Loss: 0.0066 - R2: 0.8525\n",
            "Epoch 14 - Train Loss: 0.0052 - Valid Loss: 0.0063 - R2: 0.8582\n",
            "Epoch 15 - Train Loss: 0.0051 - Valid Loss: 0.0056 - R2: 0.8557\n",
            "Epoch 16 - Train Loss: 0.0050 - Valid Loss: 0.0055 - R2: 0.8581\n",
            "Epoch 17 - Train Loss: 0.0049 - Valid Loss: 0.0063 - R2: 0.8617\n",
            "Epoch 18 - Train Loss: 0.0049 - Valid Loss: 0.0064 - R2: 0.8576\n",
            "Epoch 19 - Train Loss: 0.0048 - Valid Loss: 0.0055 - R2: 0.8622\n",
            "Epoch 20 - Train Loss: 0.0048 - Valid Loss: 0.0049 - R2: 0.8665\n",
            "Epoch 21 - Train Loss: 0.0048 - Valid Loss: 0.0053 - R2: 0.8613\n",
            "Epoch 22 - Train Loss: 0.0048 - Valid Loss: 0.0051 - R2: 0.8662\n",
            "Epoch 23 - Train Loss: 0.0047 - Valid Loss: 0.0057 - R2: 0.8622\n",
            "Epoch 24 - Train Loss: 0.0047 - Valid Loss: 0.0061 - R2: 0.8665\n",
            "Epoch 25 - Train Loss: 0.0047 - Valid Loss: 0.0061 - R2: 0.8653\n",
            "Epoch 26 - Train Loss: 0.0045 - Valid Loss: 0.0049 - R2: 0.8698\n",
            "Epoch 27 - Train Loss: 0.0045 - Valid Loss: 0.0047 - R2: 0.8728\n",
            "Epoch 28 - Train Loss: 0.0044 - Valid Loss: 0.0045 - R2: 0.8758\n",
            "Epoch 29 - Train Loss: 0.0045 - Valid Loss: 0.0049 - R2: 0.8754\n",
            "Epoch 30 - Train Loss: 0.0043 - Valid Loss: 0.0047 - R2: 0.8747\n",
            "Epoch 31 - Train Loss: 0.0044 - Valid Loss: 0.0045 - R2: 0.8786\n",
            "Epoch 32 - Train Loss: 0.0044 - Valid Loss: 0.0051 - R2: 0.8798\n",
            "Epoch 33 - Train Loss: 0.0044 - Valid Loss: 0.0044 - R2: 0.8773\n",
            "Epoch 34 - Train Loss: 0.0043 - Valid Loss: 0.0043 - R2: 0.8810\n",
            "Epoch 35 - Train Loss: 0.0043 - Valid Loss: 0.0044 - R2: 0.8819\n",
            "Epoch 36 - Train Loss: 0.0042 - Valid Loss: 0.0045 - R2: 0.8810\n",
            "Epoch 37 - Train Loss: 0.0043 - Valid Loss: 0.0043 - R2: 0.8832\n",
            "Epoch 38 - Train Loss: 0.0044 - Valid Loss: 0.0053 - R2: 0.8838\n",
            "Epoch 39 - Train Loss: 0.0042 - Valid Loss: 0.0043 - R2: 0.8830\n",
            "Epoch 40 - Train Loss: 0.0042 - Valid Loss: 0.0041 - R2: 0.8841\n",
            "Epoch 41 - Train Loss: 0.0041 - Valid Loss: 0.0044 - R2: 0.8829\n",
            "Epoch 42 - Train Loss: 0.0043 - Valid Loss: 0.0052 - R2: 0.8855\n",
            "Epoch 43 - Train Loss: 0.0041 - Valid Loss: 0.0059 - R2: 0.8806\n",
            "Epoch 44 - Train Loss: 0.0042 - Valid Loss: 0.0057 - R2: 0.8850\n",
            "Epoch 45 - Train Loss: 0.0042 - Valid Loss: 0.0044 - R2: 0.8825\n",
            "Epoch 46 - Train Loss: 0.0042 - Valid Loss: 0.0043 - R2: 0.8781\n",
            "Epoch 47 - Train Loss: 0.0042 - Valid Loss: 0.0042 - R2: 0.8764\n",
            "Epoch 48 - Train Loss: 0.0041 - Valid Loss: 0.0042 - R2: 0.8863\n",
            "Epoch 49 - Train Loss: 0.0042 - Valid Loss: 0.0042 - R2: 0.8860\n",
            "Epoch 50 - Train Loss: 0.0040 - Valid Loss: 0.0050 - R2: 0.8864\n"
          ]
        }
      ]
    },
    {
      "cell_type": "code",
      "source": [
        "cropModel1.get_loss_graph(); cropModel1.get_r2_graph()"
      ],
      "metadata": {
        "colab": {
          "base_uri": "https://localhost:8080/",
          "height": 843
        },
        "id": "kCRHtAKUqX8B",
        "outputId": "b58a16c4-7406-4e47-94e2-6544d5a38553"
      },
      "execution_count": null,
      "outputs": [
        {
          "output_type": "display_data",
          "data": {
            "text/plain": [
              "<Figure size 640x480 with 1 Axes>"
            ],
            "image/png": "[encoded data removed]"
          },
          "metadata": {}
        },
        {
          "output_type": "display_data",
          "data": {
            "text/plain": [
              "<Figure size 640x480 with 1 Axes>"
            ],
            "image/png": "[encoded data removed]"
          },
          "metadata": {}
        }
      ]
    },
    {
      "cell_type": "code",
      "source": [
        "%cd /content/drive/MyDrive/Crane-Detector/LoadRegressionModel"
      ],
      "metadata": {
        "id": "61sewrzn_Swe",
        "colab": {
          "base_uri": "https://localhost:8080/"
        },
        "outputId": "9bb73205-8222-459b-ecc2-6d5a1517f66e"
      },
      "execution_count": null,
      "outputs": [
        {
          "output_type": "stream",
          "name": "stdout",
          "text": [
            "/content/drive/MyDrive/Crane-Detector/LoadRegressionModel\n"
          ]
        }
      ]
    },
    {
      "cell_type": "code",
      "source": [
        "!ls"
      ],
      "metadata": {
        "id": "gKe2CQ4X_b5n",
        "colab": {
          "base_uri": "https://localhost:8080/"
        },
        "outputId": "e0a02bba-d9f7-4177-89d2-749cc25922f6"
      },
      "execution_count": null,
      "outputs": [
        {
          "output_type": "stream",
          "name": "stdout",
          "text": [
            "LoadRegression\tLoadRegressionCenter  LoadRegressionDims  LoadRegressionDist\n"
          ]
        }
      ]
    },
    {
      "cell_type": "code",
      "source": [
        "torch.save(cropModel1.model.state_dict(), \"/content/drive/MyDrive/Crane-Detector/LoadRegressionModel/LoadRegressionDims\")"
      ],
      "metadata": {
        "id": "ile4VtXe-tS1"
      },
      "execution_count": null,
      "outputs": []
    },
    {
      "cell_type": "markdown",
      "source": [
        "### ADAM Opt"
      ],
      "metadata": {
        "id": "mYAJYFuu6Rxt"
      }
    },
    {
      "cell_type": "code",
      "source": [
        "Linear512 = LinearRegression(8, 8, 512)\n",
        "cropModelAdam = CoordCropModel(model=Linear512, loss=loss, opt_class=torch.optim.Adam, dataloaders=dataloader_dict, lr=0)\n",
        "cropModelAdam.fit(100) #needs training longer use GPU for 100 epochs"
      ],
      "metadata": {
        "id": "lmspdEX04i68"
      },
      "execution_count": null,
      "outputs": []
    },
    {
      "cell_type": "code",
      "source": [
        "cropModelAdam.get_loss_graph(); cropModelAdam.get_r2_graph()"
      ],
      "metadata": {
        "id": "qaUwIW147ts8"
      },
      "execution_count": null,
      "outputs": []
    },
    {
      "cell_type": "code",
      "source": [],
      "metadata": {
        "id": "dFrA4w-A75Is"
      },
      "execution_count": null,
      "outputs": []
    },
    {
      "cell_type": "code",
      "source": [
        "loss = torch.nn.MSELoss()\n",
        "Linear512 = LinearRegression(8, 8, 512)\n",
        "\n",
        "cropModel1 = CoordCropModel(model=Linear512, loss=loss, dataloaders=dataloader_dict, lr=0.1, momentum=0)"
      ],
      "metadata": {
        "id": "3I0hUUWR3tMq"
      },
      "execution_count": null,
      "outputs": []
    },
    {
      "cell_type": "code",
      "source": [
        "Linear512 = LinearRegression(8, 8, 512)\n",
        "cropModel2 = CoordCropModel(model=Linear512, loss=loss, dataloaders=dataloader_dict, lr=0.05)"
      ],
      "metadata": {
        "id": "zRr6pEtFs5Pg"
      },
      "execution_count": null,
      "outputs": []
    },
    {
      "cell_type": "code",
      "source": [
        "cropModel2.fit(15) # R2 0.76 starts to overfit"
      ],
      "metadata": {
        "id": "7hRCixKtwgN8"
      },
      "execution_count": null,
      "outputs": []
    },
    {
      "cell_type": "code",
      "source": [
        "cropModel2.get_loss_graph(); cropModel2.get_r2_graph()"
      ],
      "metadata": {
        "id": "iakCgavOw03y"
      },
      "execution_count": null,
      "outputs": []
    },
    {
      "cell_type": "code",
      "source": [
        "Linear512 = LinearRegression(8, 8, 1000)\n",
        "cropModel3 = CoordCropModel(model=Linear512, loss=loss, dataloaders=dataloader_dict, lr=0.1)"
      ],
      "metadata": {
        "id": "IDFW8Gthw9gW"
      },
      "execution_count": null,
      "outputs": []
    },
    {
      "cell_type": "code",
      "source": [
        "cropModel3.fit(15) #0.8038"
      ],
      "metadata": {
        "id": "QPt1hNl7zB46"
      },
      "execution_count": null,
      "outputs": []
    },
    {
      "cell_type": "markdown",
      "source": [
        "## Create deeper network"
      ],
      "metadata": {
        "id": "uy_YiD47zpIY"
      }
    },
    {
      "cell_type": "code",
      "source": [
        "class LinearRegressionDeepx2(torch.nn.Module):\n",
        "    def __init__(self, in_feat, out_feat, hidden) -> None:\n",
        "        super().__init__()\n",
        "        self.linear = torch.nn.Sequential(\n",
        "            torch.nn.Linear(in_feat, hidden),\n",
        "            torch.nn.ReLU(),\n",
        "            torch.nn.Linear(hidden, hidden),\n",
        "            torch.nn.ReLU(),\n",
        "            torch.nn.Linear(hidden, hidden),\n",
        "            torch.nn.ReLU(),\n",
        "            torch.nn.Linear(hidden, out_feat),\n",
        "            torch.nn.Sigmoid()\n",
        "        )\n",
        "\n",
        "    def forward(self, x):\n",
        "        x = self.linear(x)\n",
        "        return x"
      ],
      "metadata": {
        "id": "DF0IS-89zFgj"
      },
      "execution_count": null,
      "outputs": []
    },
    {
      "cell_type": "code",
      "source": [
        "model = LinearRegressionDeepx2(8,8, 512) # Not as good as more shallow models\n",
        "cropModelDeep = CoordCropModel(model=model, loss=loss, dataloaders=dataloader_dict, lr=0.1)"
      ],
      "metadata": {
        "id": "a4GKq8FDz199"
      },
      "execution_count": null,
      "outputs": []
    },
    {
      "cell_type": "code",
      "source": [
        "# cropModelDeep.fit(15)"
      ],
      "metadata": {
        "id": "U3pKU33_0I9v"
      },
      "execution_count": null,
      "outputs": []
    },
    {
      "cell_type": "code",
      "source": [],
      "metadata": {
        "id": "0-_UOR5a1qXE"
      },
      "execution_count": null,
      "outputs": []
    }
  ]
}